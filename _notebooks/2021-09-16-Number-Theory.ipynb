{
 "cells": [
  {
   "cell_type": "markdown",
   "metadata": {},
   "source": [
    "# Number Theory\n",
    "\n",
    "By Jasmine Young"
   ]
  },
  {
   "cell_type": "markdown",
   "metadata": {},
   "source": [
    "In the blog post below, I will outline my solution to a twist on a Google recruitment question. In solving the problem, I rely on smaller helper functions. I also implement unit testing for each helper function and my overall function."
   ]
  },
  {
   "cell_type": "markdown",
   "metadata": {},
   "source": [
    "### The Problem\n",
    "We are asked to find the first 10-digit prime in the decimal expansion of 17$\\pi$.\n",
    "\n",
    "The first 5 digits in the decimal expansion of $\\pi$ are 14159. The first 4-digit prime in the decimal expansion of $\\pi$ are 4159. We are asked to find the first 10-digit prime in the decimal expansion of 17$\\pi$. \n",
    "\n",
    "To accomplish this we use three helper functions to:\n",
    "1. Generate a large decimal expansion of any number\n",
    "2. Check if a number is prime\n",
    "3. Generate sliding windows of a specified width from a long iterable"
   ]
  },
  {
   "cell_type": "markdown",
   "metadata": {},
   "source": [
    "### Generating a Large Decimal Expansion\n",
    "\n",
    "In this first helper function we want to generate a large decimal expansion of any given number. To do this, we use the mpmath library. The function, called \"num_times\", takes in the number we wish to expand, the number of digits we desire for the expansion, and a multiplier called \"times\". The function notes the number of desired digits, and then return the decimal expansion of that number, multiplied by the multiplier.\n",
    "\n",
    "Below the function we have a unit test. The test shows that our function can correctly expand pi to 3.14159. The second part of the test shows that it can multiply and create much larger expansions with the 100-digit expansion of $17\\pi$."
   ]
  },
  {
   "cell_type": "code",
   "execution_count": 1,
   "metadata": {},
   "outputs": [],
   "source": [
    "from mpmath import *\n",
    "\"\"\"\n",
    "Write a function generate a large decimal expansion of any number (like pi)\n",
    "\"\"\"\n",
    "def num_times(num, digits, times):\n",
    "    \"\"\"\n",
    "    set number of digits using input\n",
    "    \"\"\"\n",
    "    mp.dps = digits  \n",
    "    \"\"\"\n",
    "    multiply the number by the desired constant from input \n",
    "    \"\"\"\n",
    "    return(str(times*num))"
   ]
  },
  {
   "cell_type": "code",
   "execution_count": 2,
   "metadata": {},
   "outputs": [
    {
     "name": "stdout",
     "output_type": "stream",
     "text": [
      "3.14159\n",
      "53.40707511102648505386493751575154903135187978937679895657405806923287890686555297667659203081599016\n"
     ]
    }
   ],
   "source": [
    "\"\"\"\n",
    "Unit Test\n",
    "\"\"\"\n",
    "\"\"\"\n",
    "6 digit expansion of pi should be 3.14159\n",
    "\"\"\"\n",
    "print(num_times(mp.pi,6,1))\n",
    "\"\"\"\n",
    "100 digit expansion of 17 pi should be 53.___\n",
    "\"\"\"\n",
    "print(num_times(mp.pi,100,17))"
   ]
  },
  {
   "cell_type": "markdown",
   "metadata": {},
   "source": [
    "### Checking if a Number is Prime\n",
    "\n",
    "In this second helper function we want to take a given number and return whether or not it is prime. To do this, we begin with the factor 2. While x, our number of interest, is greater than or equal to the square of our factor we want to check of x in divisible by our factor. If x is divisible by the factor, then we return False. If x isn't divisible by the factor, then we increase the factor by 1 and go through the while loop again. Once x is not greater than the square of our factor, we know we have explored all possible factors, and we can declare the number a prime number.\n",
    "\n",
    "Below the function we have a unit test. The test shows that our function correctly identify prime numbers. Our function identifies 5 as prime, 8 as not prime, and 17 as prime."
   ]
  },
  {
   "cell_type": "code",
   "execution_count": 3,
   "metadata": {},
   "outputs": [],
   "source": [
    "\"\"\"\n",
    "Write a function to check if a number is prime\n",
    "\"\"\"\n",
    "def is_prime_num(x):\n",
    "    p = 2\n",
    "    \"\"\"\n",
    "    Check if x is greater than or equal to the square of p\n",
    "    \"\"\"\n",
    "    while (p*p <= x):\n",
    "        \"\"\"\n",
    "        Check if x is divisible by the factor, p\n",
    "        \"\"\"\n",
    "        if (x%p == 0):\n",
    "            \"\"\"\n",
    "            If x is divisible, it is not prime - return False\n",
    "            \"\"\"\n",
    "            return False\n",
    "        else:\n",
    "            p+=1\n",
    "    \"\"\"\n",
    "    Once we've checked all possible factors - return True\n",
    "    \"\"\"\n",
    "    return True"
   ]
  },
  {
   "cell_type": "code",
   "execution_count": 4,
   "metadata": {},
   "outputs": [
    {
     "name": "stdout",
     "output_type": "stream",
     "text": [
      "True\n",
      "False\n",
      "True\n"
     ]
    }
   ],
   "source": [
    "\"\"\"\n",
    "Unit test\n",
    "\"\"\"\n",
    "\"\"\"\n",
    "Is 5 a prime number? True\n",
    "\"\"\"\n",
    "print(is_prime_num(5))\n",
    "\"\"\"\n",
    "Is 8 a prime number ? False\n",
    "\"\"\"\n",
    "print(is_prime_num(8))\n",
    "\"\"\"\n",
    "Is 17 a prime number? True\n",
    "\"\"\"\n",
    "print(is_prime_num(17))"
   ]
  },
  {
   "cell_type": "markdown",
   "metadata": {},
   "source": [
    "### Generating Sliding Windows of a Specified Width\n",
    "\n",
    "In this third helper function we want to take in a long string and return a list of sliding windows. We want the sliding windows to be of the specified length, n. We begin by creating an empty list called windows, and cleaning the input string of any decimal points. Then, we loop through each character in the string except for the last n, to avoid going past the end of the string. We add a window of length n to our list, windows. Once the loop ends, we return windows.\n",
    "\n",
    "Below the function we have a unit test. The test shows our function can return sliding windows of size 5 for 'abcdefghijklmnop' and sliding windows of size 7 for the decimal '5.467892346'."
   ]
  },
  {
   "cell_type": "code",
   "execution_count": 5,
   "metadata": {},
   "outputs": [],
   "source": [
    "\"\"\"\n",
    "Write a function to generate sliding windows of a specified width from a long iterable\n",
    "\"\"\"\n",
    "def slide_n(n,long_str):\n",
    "    windows = []\n",
    "    \"\"\"\n",
    "    Clean string of decimal points\n",
    "    \"\"\"\n",
    "    long_str = long_str.replace('.', '')\n",
    "    \"\"\"\n",
    "    Loop through each character, until n before the end of the string\n",
    "    \"\"\"\n",
    "    for i in range(0,len(long_str)-(n-1)):\n",
    "        \"\"\"\n",
    "        Add sliding window of size n to windows\n",
    "        \"\"\"\n",
    "        temp_str = long_str[i:i+n]\n",
    "        windows.append(temp_str)\n",
    "    \"\"\"\n",
    "    Return windows\n",
    "    \"\"\"\n",
    "    return windows"
   ]
  },
  {
   "cell_type": "code",
   "execution_count": 6,
   "metadata": {},
   "outputs": [
    {
     "name": "stdout",
     "output_type": "stream",
     "text": [
      "['abcde', 'bcdef', 'cdefg', 'defgh', 'efghi', 'fghij', 'ghijk', 'hijkl', 'ijklm', 'jklmn', 'klmno', 'lmnop']\n",
      "['5467892', '4678923', '6789234', '7892346']\n"
     ]
    }
   ],
   "source": [
    "\"\"\"\n",
    "Unit Test\n",
    "\"\"\"\n",
    "\"\"\"\n",
    "Can we create sliding ranges of 5 letters for the first part of alphabet?\n",
    "\"\"\"\n",
    "print(slide_n(5,'abcdefghijklmnop'))\n",
    "\"\"\"\n",
    "Can we create sliding ranges of 5 numbers for a decimal?\n",
    "\"\"\"\n",
    "print(slide_n(7,'5.467892346'))"
   ]
  },
  {
   "cell_type": "markdown",
   "metadata": {},
   "source": [
    "### Find The First n-digit Prime in The Decimal Expansion of a Number\n",
    "\n",
    "In our final function we use all of our helper functions to solve our question of interest - finding the first 10-digit prime number in the decimal expansion of $17\\pi$. Our function can find the first n-digit prime in the decimal expansion of a number. The function takes as input: the number (ex. $\\pi$), any multipliers for the number (ex. 17), the desired window length (ex. 10), and the desired decimal expansion length (ex. 1000). The function first calls num_time to generate the full decimal expansion of the desired number. Then, we feed the window length and full decimal expansion to slide_n to generate our list of sliding windows. Finally, we loop through our sliding windows, checking if each is prime, and return the first prime number we find. If we don't find any primes after looping through all windows, we return a string encouraging the user to try a longer decimal expansion. \n",
    "\n",
    "Below our function we have unit test, seeking the first ten digit prime in the decimal expansion of e (7427466391). We begin by testing a decimal expansion of 100, but find we need a longer decimal expansion. With a decimal expansion of 1000 we see our function returns the correct answer.\n",
    "\n",
    "Fianlly, we are able to answer our initial question below our unit test. The first 10-digit prime in the decimal expansion of $17\\pi$ is '8649375157'."
   ]
  },
  {
   "cell_type": "code",
   "execution_count": 7,
   "metadata": {},
   "outputs": [],
   "source": [
    "\"\"\"\n",
    "Find the first n-digit prime in the decimal expansion of a number.\n",
    "\"\"\"\n",
    "def first_n_prime(num,multiplier,window,dec_length):\n",
    "    \"\"\"\n",
    "    Get the full decimal expansion of the number\n",
    "    \"\"\"\n",
    "    full_str = num_times(num,dec_length,multiplier)\n",
    "    \"\"\"\n",
    "    Create the sliding windows of size n\n",
    "    \"\"\"\n",
    "    windows = slide_n(window,full_str)\n",
    "    \"\"\"\n",
    "    Loop through all windows\n",
    "    \"\"\"\n",
    "    for i in range(0,len(windows)):\n",
    "        \"\"\"\n",
    "        Check if each window is prime, and return the first prime found\n",
    "        \"\"\"\n",
    "        if (is_prime_num(int(windows[i]))):\n",
    "            return windows[i]\n",
    "        else:\n",
    "            continue\n",
    "    \"\"\"\n",
    "    If no primes were found, return a message to the user\n",
    "    \"\"\"\n",
    "    return str(\"Try a longer decimal expansion.\")\n"
   ]
  },
  {
   "cell_type": "code",
   "execution_count": 8,
   "metadata": {},
   "outputs": [
    {
     "name": "stdout",
     "output_type": "stream",
     "text": [
      "7427466391\n"
     ]
    }
   ],
   "source": [
    "\"\"\"\n",
    "Unit Test\n",
    "\"\"\"\n",
    "\"\"\"\n",
    "Search for first ten digit prime of e - with only 100 decimals we do not find it\n",
    "\"\"\"\n",
    "y = first_n_prime(mp.e,1,10,100)\n",
    "\"\"\"\n",
    "First ten digit prime of e should be 7427466391, we find it with 1000 decimals\n",
    "\"\"\"\n",
    "z = first_n_prime(mp.e,1,10,1000)\n",
    "print(z)"
   ]
  },
  {
   "cell_type": "code",
   "execution_count": 9,
   "metadata": {},
   "outputs": [
    {
     "data": {
      "text/plain": [
       "'8649375157'"
      ]
     },
     "execution_count": 9,
     "metadata": {},
     "output_type": "execute_result"
    }
   ],
   "source": [
    "\"\"\"\n",
    "Answer our original question:\n",
    "    First 10-digit prime in the decimal expansion of 17 pi\n",
    "\"\"\"\n",
    "first_n_prime(mp.pi,17,10,1000)"
   ]
  },
  {
   "cell_type": "code",
   "execution_count": 10,
   "metadata": {},
   "outputs": [
    {
     "data": {
      "text/plain": [
       "True"
      ]
     },
     "execution_count": 10,
     "metadata": {},
     "output_type": "execute_result"
    }
   ],
   "source": [
    "\"\"\"\n",
    "Check that it is prime\n",
    "\"\"\"\n",
    "is_prime_num(8649375157)"
   ]
  }
 ],
 "metadata": {
  "kernelspec": {
   "display_name": "Python 3",
   "language": "python",
   "name": "python3"
  },
  "language_info": {
   "codemirror_mode": {
    "name": "ipython",
    "version": 3
   },
   "file_extension": ".py",
   "mimetype": "text/x-python",
   "name": "python",
   "nbconvert_exporter": "python",
   "pygments_lexer": "ipython3",
   "version": "3.7.8"
  }
 },
 "nbformat": 4,
 "nbformat_minor": 4
}
