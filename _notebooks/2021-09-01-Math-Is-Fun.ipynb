{
 "cells": [
  {
   "cell_type": "markdown",
   "metadata": {},
   "source": [
    "# Math Is Fun - Solving Problems From The Euler Project\n",
    "### By Jasmine Young"
   ]
  },
  {
   "cell_type": "markdown",
   "metadata": {},
   "source": [
    "In the blog below I will outline my solutions to three problems from The Euler project. The first, being the easiest, has been solved by less than 500,000 people. The second has been solved by less than 100,000 people. The third has been solved by less than 25,000 people. The problems are numbered as they appear on The Euler Project site https://projecteuler.net/archives."
   ]
  },
  {
   "cell_type": "markdown",
   "metadata": {},
   "source": [
    "## Problem 6 - Sum Square Difference\n",
    "### Solved By 496,296\n",
    "https://projecteuler.net/problem=6"
   ]
  },
  {
   "cell_type": "markdown",
   "metadata": {},
   "source": [
    "We are asked to find the difference between the \"sum of the squares\" of the first one hundred natural numbers and the \"square of the sum\" of the first one hundred natural numbers. \n",
    "\n",
    "For example, the \"sum of the squares\" of the first ten natural numbers is: $$1^2 + 2^2 + ... + 10^2 = 385$$\n",
    "\n",
    "The \"square of the sum\" of the first 10 natural numbers is: $$(1+2+...+10)^2 = 55^2 = 3025$$"
   ]
  },
  {
   "cell_type": "markdown",
   "metadata": {},
   "source": [
    "The function I used to obtain my solution is below. I forst compute the sum of squares. I begin by looping through the specified amount of natural numbers, in this case 100, and totaling the square of each number. Then, I compute the square of the sum by looping through the 100 natural numbers. I add them all together and square the total. Lastly, the function returns the difference by subtracting the two. Our answer is 25,164,150."
   ]
  },
  {
   "cell_type": "code",
   "execution_count": 1,
   "metadata": {
    "scrolled": false
   },
   "outputs": [],
   "source": [
    "def sum_square_diff(num):\n",
    "    \"\"\"\n",
    "    Compute the sum of the squares\n",
    "\n",
    "    Begin with sum_s equaling zero, and add each natural number squared.\n",
    "    \"\"\"\n",
    "    sum_s = 0\n",
    "    for i in range(1,num+1):\n",
    "        sum_s += i**2\n",
    "    \"\"\"\n",
    "    Compute the square of the sum\n",
    "\n",
    "    Begin with sum_s equaling zero, and add each natural number. Square the sum at the end.\n",
    "    \"\"\"\n",
    "    s_sum = 0\n",
    "    for j in range(1,num+1):\n",
    "        s_sum += j\n",
    "    s_sum = s_sum**2\n",
    "    \"\"\"\n",
    "    Return the difference by subtracting\n",
    "    \"\"\"\n",
    "    return(s_sum - sum_s)"
   ]
  },
  {
   "cell_type": "code",
   "execution_count": 2,
   "metadata": {
    "scrolled": false
   },
   "outputs": [
    {
     "data": {
      "text/plain": [
       "25164150"
      ]
     },
     "execution_count": 2,
     "metadata": {},
     "output_type": "execute_result"
    }
   ],
   "source": [
    "\"\"\"\n",
    "Our answer for the first 100 natural numbers is shown below.\n",
    "\"\"\"\n",
    "sum_square_diff(100)"
   ]
  },
  {
   "cell_type": "markdown",
   "metadata": {},
   "source": [
    "## Problem 27 - Quadratic Primes\n",
    "### Solved by 88,173\n",
    "https://projecteuler.net/problem=27"
   ]
  },
  {
   "cell_type": "markdown",
   "metadata": {},
   "source": [
    "Considering quadratics of the form:\n",
    "$$n^2+an+b, |a|<1000, |b|\\leq1000$$\n",
    "We are asked to find the product of the coefficients, $a$ and $b$, for the quadratic expression that produces the maximum number of primes for consecutive values of $n$, starting with $n=0$."
   ]
  },
  {
   "cell_type": "markdown",
   "metadata": {},
   "source": [
    "For example, there is a formula:\n",
    "$$n^2 - 79n +1601$$\n",
    "Which produces 80 primes for the consecutive values $0\\leq n \\leq 79$. The product of the coefficients, -79 and 1601, is -126,479."
   ]
  },
  {
   "cell_type": "markdown",
   "metadata": {},
   "source": [
    "My code solution is shown below. I begin by creating a helper function that checks if a number is a prime. The main function, called quad_primes, loops through all possible values of a and b. For each possible value of a and b, the function checks if the result is a prime number. If the result is a prime number, then a while loop continues to increment n until the result is no longer prime. The function records the max count of prime numbers and the a and b values associated with that max count. The coefficients with the maximum number of primes for consecutive values of n are $a=-61$ and $b=971$. The product of these two coefficients is -59,231."
   ]
  },
  {
   "cell_type": "code",
   "execution_count": 3,
   "metadata": {
    "scrolled": false
   },
   "outputs": [],
   "source": [
    "\"\"\"\n",
    "Check if a number is prime.\n",
    "\"\"\"\n",
    "def check_prime(num):\n",
    "    \"\"\"\n",
    "    Prime numbers must be > 1.\n",
    "    \"\"\"\n",
    "    if (num > 1):\n",
    "        for i in range(2,num):\n",
    "            \"\"\"\n",
    "            If number is divisible by anything, it's not prime.\n",
    "            \"\"\"\n",
    "            if (num % i) == 0:\n",
    "                return False\n",
    "        return True\n",
    "    else:\n",
    "        return False"
   ]
  },
  {
   "cell_type": "code",
   "execution_count": 4,
   "metadata": {
    "scrolled": false
   },
   "outputs": [],
   "source": [
    "def quad_primes(a_max,b_max):\n",
    "    \"\"\"\n",
    "    Begin with a, b, and count values at zero.\n",
    "    \"\"\"\n",
    "    prime_num = 1\n",
    "    best_a = 0\n",
    "    best_b = 0\n",
    "    max_count = 0\n",
    "    \"\"\"\n",
    "    Loop through all possible values of a and b.\n",
    "    \"\"\"\n",
    "    for a in range(-999,a_max+1):\n",
    "        for b in range(-1000,b_max+1):\n",
    "            n = 0\n",
    "            count = 0\n",
    "            prime_num = b\n",
    "            \"\"\"\n",
    "            For the set (a,b) - track the count of consecutive primes.\n",
    "            \"\"\"\n",
    "            while(check_prime(prime_num)):\n",
    "                count += 1\n",
    "                n += 1\n",
    "                prime_num = n**2 + (a*n) + b\n",
    "            \"\"\"\n",
    "            Check if count is higher than all other counts, and save values.\n",
    "            \"\"\"\n",
    "            if(count > max_count):\n",
    "                best_a = a\n",
    "                best_b = b\n",
    "                max_count = count\n",
    "    return([max_count,best_a,best_b,best_a * best_b])"
   ]
  },
  {
   "cell_type": "code",
   "execution_count": 5,
   "metadata": {
    "scrolled": false
   },
   "outputs": [],
   "source": [
    "var = quad_primes(999,1000)"
   ]
  },
  {
   "cell_type": "code",
   "execution_count": 6,
   "metadata": {
    "scrolled": false
   },
   "outputs": [
    {
     "name": "stdout",
     "output_type": "stream",
     "text": [
      "The max count of prime numbers is 71\n",
      "The value of a is -61.\n",
      "The value of b is 971.\n",
      "The product of a and b is -59231\n"
     ]
    }
   ],
   "source": [
    "#collapse\n",
    "print('The max count of prime numbers is {}'.format(var[0]))\n",
    "print('The value of a is {}.'.format(var[1]))\n",
    "print('The value of b is {}.'.format(var[2]))\n",
    "print('The product of a and b is {}'.format(var[3]))"
   ]
  },
  {
   "cell_type": "markdown",
   "metadata": {},
   "source": [
    "## Problem 85 - Counting Rectangles\n",
    "### Solved by 24,609\n",
    "https://projecteuler.net/problem=85"
   ]
  },
  {
   "cell_type": "markdown",
   "metadata": {},
   "source": [
    "Although there exists no rectangular grid that contains exactly two million rectangles, find the area of the grid with the nearest solution.\n",
    "\n",
    "For example, a 3x2 grid contains 18 rectangles."
   ]
  },
  {
   "cell_type": "markdown",
   "metadata": {},
   "source": [
    "The brute force solution is pretty easy to derive.  If the grid is X long and Y high, we want to find rectangles with sides which are 1≤x≤X and 1≤y≤Y.\n",
    "\n",
    "In case are looking for rectangles of size MxN there will be (X-M+1)*(Y-N+1)  possible ways to place that rectangles. \n",
    "\n",
    "We begin with a helper function called num_rect that counts how many rectangles are contained in an (X,Y) grid. This helper function loops through all possible rectangle shapes. For each rectangle of size HxW, the grid contains $(X-h+1)*(Y-W+1)$ of those rectangles."
   ]
  },
  {
   "cell_type": "markdown",
   "metadata": {},
   "source": [
    "The main function, called count_rect, takes the goal number of rectangles as input. Then the function loops through possible dimensions for a grid. For each grid, the total number of rectangles is calculated. We save the grid that's closest to our goal number of rectangles. The closest we could get to 2,000,000 rectangles is 1,999,998 with a 36x77 grid."
   ]
  },
  {
   "cell_type": "code",
   "execution_count": 7,
   "metadata": {
    "scrolled": false
   },
   "outputs": [],
   "source": [
    "\"\"\"\n",
    "Calculate the total number of rectangles in an (X,Y) grid.\n",
    "\"\"\"\n",
    "def num_rect(X,Y):\n",
    "    num_rect = 0\n",
    "    for h in range(1,X+1):\n",
    "        for w in range(1,Y+1):\n",
    "            \"\"\"\n",
    "            We add to the total with each size of rectangle (h,w).\n",
    "            \"\"\"\n",
    "            num_rect += (X - h + 1)*(Y - w + 1)\n",
    "    return num_rect"
   ]
  },
  {
   "cell_type": "code",
   "execution_count": 8,
   "metadata": {
    "scrolled": false
   },
   "outputs": [],
   "source": [
    "import numpy as np\n",
    "\n",
    "def count_rect(goal):\n",
    "    best_h = 0\n",
    "    best_w = 0\n",
    "    best_diff = goal\n",
    "    \"\"\"\n",
    "    Loop through possible grid values.\n",
    "    \"\"\"\n",
    "    for i in range(0,200):\n",
    "        for j in range(i,200):\n",
    "            \"\"\"\n",
    "            If grid is closest to goal, save values.\n",
    "            \"\"\"\n",
    "            if (np.abs(goal - num_rect(i,j)) < best_diff):\n",
    "                best_diff = np.abs(goal - num_rect(i,j))\n",
    "                best_h = i\n",
    "                best_w = j\n",
    "    return[best_h,best_w,num_rect(best_h,best_w)]"
   ]
  },
  {
   "cell_type": "code",
   "execution_count": 9,
   "metadata": {},
   "outputs": [
    {
     "name": "stdout",
     "output_type": "stream",
     "text": [
      "The closest we could get to 2,000,000 rectangles is 1999998\n",
      "The size of the grid with 1999998 rectangles is 36x77.\n"
     ]
    }
   ],
   "source": [
    "#collapse\n",
    "result = count_rect(2000000)\n",
    "print('The closest we could get to 2,000,000 rectangles is {}'.format(result[2]))\n",
    "print('The size of the grid with {} rectangles is {}x{}.'.format(result[2],result[0],result[1]))"
   ]
  },
  {
   "cell_type": "code",
   "execution_count": null,
   "metadata": {},
   "outputs": [],
   "source": []
  }
 ],
 "metadata": {
  "kernelspec": {
   "display_name": "Python 3",
   "language": "python",
   "name": "python3"
  },
  "language_info": {
   "codemirror_mode": {
    "name": "ipython",
    "version": 3
   },
   "file_extension": ".py",
   "mimetype": "text/x-python",
   "name": "python",
   "nbconvert_exporter": "python",
   "pygments_lexer": "ipython3",
   "version": "3.7.8"
  }
 },
 "nbformat": 4,
 "nbformat_minor": 4
}
