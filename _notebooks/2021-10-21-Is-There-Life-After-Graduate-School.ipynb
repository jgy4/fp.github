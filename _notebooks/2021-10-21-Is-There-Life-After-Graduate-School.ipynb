{
 "cells": [
  {
   "cell_type": "markdown",
   "metadata": {},
   "source": [
    "# Is There Life After Graduate School?\n",
    "By Jasmine Young"
   ]
  },
  {
   "cell_type": "markdown",
   "metadata": {},
   "source": [
    "### The Task\n",
    "\n",
    "In this blog post we will be using data from [Science and Engineering PhDs awarded in the US](https://ncses.nsf.gov/pubs/nsf19301/data). We will perform some analysis in `pandas` and make a dashboard visualization of a few interesting aspects of the data."
   ]
  },
  {
   "cell_type": "markdown",
   "metadata": {},
   "source": [
    "### Plotly & Dash\n",
    "I chose to use plotly for my visualizations and Dash to power my dashboard because it was easily integrated into Jupyter notebook. Plotly allows you to easily create interactive visualizations using python. I found Dash to be straightforward and easily customizable when working with Plotly visualizations."
   ]
  },
  {
   "cell_type": "markdown",
   "metadata": {},
   "source": [
    "### Data Analysis In Pandas\n",
    "The data transformations and analysis necessary to create the dashboard can be viewed below."
   ]
  },
  {
   "cell_type": "code",
   "execution_count": 182,
   "metadata": {},
   "outputs": [],
   "source": [
    "#collapse\n",
    "table2 = pd.read_excel('tab001.xlsx', index_col=0, header=3)\n",
    "table2 = table2.replace('-', 0)\n",
    "table2.reset_index(level=0, inplace=True)"
   ]
  },
  {
   "cell_type": "code",
   "execution_count": null,
   "metadata": {},
   "outputs": [],
   "source": [
    "#collapse\n",
    "table4 = pd.read_excel('tab006.xlsx', index_col=0, header=[3,4])"
   ]
  },
  {
   "cell_type": "code",
   "execution_count": 75,
   "metadata": {},
   "outputs": [],
   "source": [
    "#collapse\n",
    "us_state_to_abbrev = {\n",
    "    \"Alabama\": \"AL\",\n",
    "    \"Alaska\": \"AK\",\n",
    "    \"Arizona\": \"AZ\",\n",
    "    \"Arkansas\": \"AR\",\n",
    "    \"California\": \"CA\",\n",
    "    \"Colorado\": \"CO\",\n",
    "    \"Connecticut\": \"CT\",\n",
    "    \"Delaware\": \"DE\",\n",
    "    \"Florida\": \"FL\",\n",
    "    \"Georgia\": \"GA\",\n",
    "    \"Hawaii\": \"HI\",\n",
    "    \"Idaho\": \"ID\",\n",
    "    \"Illinois\": \"IL\",\n",
    "    \"Indiana\": \"IN\",\n",
    "    \"Iowa\": \"IA\",\n",
    "    \"Kansas\": \"KS\",\n",
    "    \"Kentucky\": \"KY\",\n",
    "    \"Louisiana\": \"LA\",\n",
    "    \"Maine\": \"ME\",\n",
    "    \"Maryland\": \"MD\",\n",
    "    \"Massachusetts\": \"MA\",\n",
    "    \"Michigan\": \"MI\",\n",
    "    \"Minnesota\": \"MN\",\n",
    "    \"Mississippi\": \"MS\",\n",
    "    \"Missouri\": \"MO\",\n",
    "    \"Montana\": \"MT\",\n",
    "    \"Nebraska\": \"NE\",\n",
    "    \"Nevada\": \"NV\",\n",
    "    \"New Hampshire\": \"NH\",\n",
    "    \"New Jersey\": \"NJ\",\n",
    "    \"New Mexico\": \"NM\",\n",
    "    \"New York\": \"NY\",\n",
    "    \"North Carolina\": \"NC\",\n",
    "    \"North Dakota\": \"ND\",\n",
    "    \"Ohio\": \"OH\",\n",
    "    \"Oklahoma\": \"OK\",\n",
    "    \"Oregon\": \"OR\",\n",
    "    \"Pennsylvania\": \"PA\",\n",
    "    \"Rhode Island\": \"RI\",\n",
    "    \"South Carolina\": \"SC\",\n",
    "    \"South Dakota\": \"SD\",\n",
    "    \"Tennessee\": \"TN\",\n",
    "    \"Texas\": \"TX\",\n",
    "    \"Utah\": \"UT\",\n",
    "    \"Vermont\": \"VT\",\n",
    "    \"Virginia\": \"VA\",\n",
    "    \"Washington\": \"WA\",\n",
    "    \"West Virginia\": \"WV\",\n",
    "    \"Wisconsin\": \"WI\",\n",
    "    \"Wyoming\": \"WY\",\n",
    "    \"District of Columbia\": \"DC\",\n",
    "    \"American Samoa\": \"AS\",\n",
    "    \"Guam\": \"GU\",\n",
    "    \"Northern Mariana Islands\": \"MP\",\n",
    "    \"Puerto Rico\": \"PR\",\n",
    "    \"United States Minor Outlying Islands\": \"UM\",\n",
    "    \"U.S. Virgin Islands\": \"VI\",\n",
    "}"
   ]
  },
  {
   "cell_type": "code",
   "execution_count": 183,
   "metadata": {},
   "outputs": [],
   "source": [
    "#collapse\n",
    "t401 = table4.groupby(level=0, axis=1).sum()\n",
    "t401 = t401.replace('DD',0)\n",
    "t401['abbrev'] = t401.index.map(us_state_to_abbrev)\n",
    "t401 = t401.drop(['United Statesd'])\n",
    "for col in t401.columns:\n",
    "    t401[col] = t401[col].astype(str)\n",
    "t401['Text'] = ' Education: ' + t401['Education'] + ' Engineering: ' + t401['Engineering'] + '<br>' + \\\n",
    "    ' Humanities & Arts: ' + t401['Humanities and arts'] + ' Life Sciences: ' + \\\n",
    "    t401['Life sciencesb'] + '<br>' + ' Math & Computer Sciences: ' + \\\n",
    "    t401['Mathematics and computer sciences'] + ' Other: ' + t401['Otherc'] + \\\n",
    "    '<br>' + ' Physical & Earth Sciences: ' + t401['Physical sciences and earth sciences '] + \\\n",
    "    ' Psychology & Social Sciences: ' + t401['Psychology and social sciences']"
   ]
  },
  {
   "cell_type": "code",
   "execution_count": null,
   "metadata": {},
   "outputs": [],
   "source": [
    "#collapse\n",
    "t402 = table4.groupby(level=0, axis=1).sum()\n",
    "t402 = t402.iloc[: , :-1]\n",
    "t402 = pd.DataFrame(t402.loc['United Statesd']).reset_index()"
   ]
  },
  {
   "cell_type": "code",
   "execution_count": null,
   "metadata": {},
   "outputs": [],
   "source": [
    "#collapse\n",
    "table5 = pd.read_excel('tab015.xlsx', index_col=0, header=3)\n",
    "table5 = table5.iloc[: , :-1]"
   ]
  },
  {
   "cell_type": "markdown",
   "metadata": {},
   "source": [
    "### Dashboard\n",
    "\n",
    "The collapsed code below will show how I created the Dashboard. This dashboard highlights a few key points about the doctoral data. \n",
    "- We show the increase in doctoral recipients over times, and how that increase has slowed in recent decades.\n",
    "- We show a comparison of the number of doctorate recipients in each subject category. Life Sciences still produces the most doctorate recipients.\n",
    "- We show how the number of male and female doctorate recipients has changed over time.\n",
    "- We show how the number of doctoral graduates varies by State (specifically in the Year 2017)."
   ]
  },
  {
   "cell_type": "code",
   "execution_count": 179,
   "metadata": {},
   "outputs": [],
   "source": [
    "#collapse\n",
    "import dash\n",
    "from dash.dependencies import Input, Output\n",
    "from dash import dcc\n",
    "from dash import html\n",
    "from jupyter_dash import JupyterDash\n",
    "import pandas as pd\n",
    "from datetime import datetime as dt\n",
    "import plotly.graph_objects as go\n",
    "\n",
    "app = JupyterDash('Hello World')\n",
    "\n",
    "def stock_prices(): \n",
    "    fig = go.Figure([go.Bar(x = t402['State or location'], y = t402['United Statesd'])\n",
    "                     ])\n",
    "    fig.update_layout(title = 'Doctorate Recipients by Subject Category',\n",
    "                      xaxis_title = 'Subject',\n",
    "                      yaxis_title = 'Number of Doctorate Recipients'\n",
    "                      )\n",
    "    fig.update_layout(xaxis_tickangle=-45)\n",
    "    return fig \n",
    "\n",
    "def other_graph():\n",
    "    fig = go.Figure([go.Scatter(x = table5.columns, y = table5.loc['Female'],\\\n",
    "                     name = 'Female')\n",
    "                     ])\n",
    "    fig.add_trace(go.Scatter(x = table5.columns, y = table5.loc['Male'], name = 'Male'))\n",
    "    fig.update_layout(title = 'Doctorate Recipients By Sex Over Time',\n",
    "                      xaxis_title = 'Year',\n",
    "                      yaxis_title = 'Number of Doctorate Recipients'\n",
    "                      )\n",
    "    return fig\n",
    "\n",
    "def make_map():\n",
    "    fig = go.Figure(data=go.Choropleth(\n",
    "    locations=t401['abbrev'], # Spatial coordinates\n",
    "    z = t401['Totala'].astype(float), # Data to be color-coded\n",
    "    locationmode = 'USA-states', # set of locations match entries in `locations`\n",
    "    colorscale = 'Reds',\n",
    "    text=t401['Text'],\n",
    "    colorbar_title = \"Number of Doctoral Graduates\",\n",
    "    ))\n",
    "    fig.update_layout(\n",
    "    title_text = 'Doctoral Graduates By State & Subject Area (2017)',\n",
    "    geo_scope='usa', # limite map scope to USA\n",
    "    )\n",
    "    return fig\n",
    "\n",
    "app.layout = html.Div([\n",
    "    html.Div([\n",
    "    dcc.Dropdown(\n",
    "        id='my-dropdown',\n",
    "        options=[\n",
    "            {'label': 'Doctorate Recipients Over Time', 'value': 'Doctorate recipients'},\n",
    "            {'label': 'Percent Change in Doctorate Recipients Over Time', 'value': '% change from previous year'}\n",
    "        ],\n",
    "        value='Doctorate recipients'\n",
    "    ),\n",
    "    dcc.Graph(id='my-graph')\n",
    "], style={'width': '49%', 'display': 'inline-block'}),\n",
    "    html.Div([\n",
    "        dcc.Graph(id = 'line_plot', figure = stock_prices())\n",
    "        ], style={'width': '49%', 'display': 'inline-block'}),\n",
    "    html.Div([\n",
    "    dcc.Graph(id = 'other_line_plot', figure = other_graph())\n",
    "    ], style={'display': 'block'}),\n",
    "    html.Div([\n",
    "    dcc.Graph(id = 'map', figure = make_map())\n",
    "    ], style={'display': 'block'})\n",
    "])\n",
    "\n",
    "@app.callback(Output('my-graph', 'figure'), [Input('my-dropdown', 'value')])\n",
    "def update_graph(selected_dropdown_value):\n",
    "    df = table2\n",
    "    return {\n",
    "        'data': [{\n",
    "            'x': df.Year,\n",
    "            'y': df[str(selected_dropdown_value)]\n",
    "        }],\n",
    "        'layout': {'margin': {'l': 40, 'r': 0, 't': 20, 'b': 30}}\n",
    "    }\n"
   ]
  },
  {
   "cell_type": "code",
   "execution_count": 180,
   "metadata": {},
   "outputs": [
    {
     "data": {
      "text/html": [
       "\n",
       "        <iframe\n",
       "            width=\"100%\"\n",
       "            height=\"650\"\n",
       "            src=\"http://127.0.0.1:8050/\"\n",
       "            frameborder=\"0\"\n",
       "            allowfullscreen\n",
       "        ></iframe>\n",
       "        "
      ],
      "text/plain": [
       "<IPython.lib.display.IFrame at 0x7fa70cb4b7f0>"
      ]
     },
     "metadata": {},
     "output_type": "display_data"
    }
   ],
   "source": [
    "app.run_server(mode='inline')"
   ]
  },
  {
   "cell_type": "code",
   "execution_count": null,
   "metadata": {},
   "outputs": [],
   "source": []
  }
 ],
 "metadata": {
  "kernelspec": {
   "display_name": "Python 3",
   "language": "python",
   "name": "python3"
  },
  "language_info": {
   "codemirror_mode": {
    "name": "ipython",
    "version": 3
   },
   "file_extension": ".py",
   "mimetype": "text/x-python",
   "name": "python",
   "nbconvert_exporter": "python",
   "pygments_lexer": "ipython3",
   "version": "3.8.3"
  }
 },
 "nbformat": 4,
 "nbformat_minor": 4
}
